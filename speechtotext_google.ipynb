{
  "nbformat": 4,
  "nbformat_minor": 0,
  "metadata": {
    "colab": {
      "name": "speechtotext_google.ipynb",
      "provenance": [],
      "collapsed_sections": [],
      "authorship_tag": "ABX9TyNJ59cS0auPpnToz2k1mbhw",
      "include_colab_link": true
    },
    "kernelspec": {
      "name": "python3",
      "display_name": "Python 3"
    },
    "language_info": {
      "name": "python"
    },
    "accelerator": "TPU"
  },
  "cells": [
    {
      "cell_type": "markdown",
      "metadata": {
        "id": "view-in-github",
        "colab_type": "text"
      },
      "source": [
        "<a href=\"https://colab.research.google.com/github/laiananardi/speech_to_text/blob/main/speechtotext_google.ipynb\" target=\"_parent\"><img src=\"https://colab.research.google.com/assets/colab-badge.svg\" alt=\"Open In Colab\"/></a>"
      ]
    },
    {
      "cell_type": "code",
      "execution_count": 208,
      "metadata": {
        "colab": {
          "base_uri": "https://localhost:8080/"
        },
        "id": "B-AX57lyONKh",
        "outputId": "f7f46032-24b1-4259-ad46-30c20fbfc8b3"
      },
      "outputs": [
        {
          "output_type": "stream",
          "name": "stdout",
          "text": [
            "Requirement already satisfied: SpeechRecognition in /usr/local/lib/python3.7/dist-packages (3.8.1)\n",
            "Requirement already satisfied: pydub in /usr/local/lib/python3.7/dist-packages (0.25.1)\n"
          ]
        }
      ],
      "source": [
        "!pip install SpeechRecognition\n",
        "!pip install pydub"
      ]
    },
    {
      "cell_type": "code",
      "source": [
        "import speech_recognition as sr\n",
        "from pydub import AudioSegment\n",
        "from pydub.utils import make_chunks\n",
        "import matplotlib.pyplot as plt\n",
        "from wordcloud import WordCloud\n",
        "from google.colab import drive\n",
        "drive.mount('/content/drive')\n",
        "path = '/content/drive/MyDrive/Projeto Aplicado - DLE/'\n"
      ],
      "metadata": {
        "colab": {
          "base_uri": "https://localhost:8080/"
        },
        "id": "u84ZnYUNSrCN",
        "outputId": "fe63a7f7-bc04-47dd-f02f-4913110cd4ab"
      },
      "execution_count": 209,
      "outputs": [
        {
          "output_type": "stream",
          "name": "stdout",
          "text": [
            "Drive already mounted at /content/drive; to attempt to forcibly remount, call drive.mount(\"/content/drive\", force_remount=True).\n"
          ]
        }
      ]
    },
    {
      "cell_type": "code",
      "source": [
        "def abrir_audio(file):\n",
        "  \n",
        "  filename_wav = f'{path}dataset_audios/{file}.wav'\n",
        "  #selecionando o audio\n",
        "  audio = AudioSegment.from_file(filename_wav, 'wav')\n",
        "\n",
        "  #tamanho da divisão do audio em milisegundos\n",
        "  tamanho = 30000\n",
        "\n",
        "  #dividindo o audio \n",
        "  partes = make_chunks(audio, tamanho)\n",
        "  partes_audio = []\n",
        "\n",
        "  for i, parte in enumerate(partes):\n",
        "    #enumerando arquivo particionado\n",
        "    parte_name = f'{path}/audios_particoes/file{i}.wav'\n",
        "    #guardando os nomes das partições em uma lista\n",
        "    partes_audio.append(parte_name)\n",
        "    #exportando os arquivos de audio\n",
        "    parte.export(parte_name, format='wav')\n",
        "  return partes_audio\n"
      ],
      "metadata": {
        "id": "ExIBXuKaWt_B"
      },
      "execution_count": 210,
      "outputs": []
    },
    {
      "cell_type": "code",
      "source": [
        "def transcreve_audio(nome_audio):\n",
        "  #selecionar audio para reconhecimento\n",
        "  r = sr.Recognizer()\n",
        "  with sr.AudioFile(nome_audio) as source:\n",
        "    r.adjust_for_ambient_noise(source)\n",
        "    audio = r.record(source)#ler audio\n",
        "   \n",
        "\n",
        "  #reconhecimento com google speech recognition\n",
        "  try:\n",
        "      texto = r.recognize_google(audio, language='pt-BR')\n",
        "      #print(f'Google Speech Recognition: {texto}')\n",
        "  except sr.UnknownValueError:\n",
        "      texto = ''\n",
        "      print(f'Google Speech Recognition não entendeu o audio')   \n",
        "  except sr.RequestError:\n",
        "      texto = ''\n",
        "      print(f'Erro ao solicitar resultados do serviço Google Speech Recognition')   \n",
        "  return texto\n"
      ],
      "metadata": {
        "id": "LvdlkeNpaLIt"
      },
      "execution_count": 211,
      "outputs": []
    },
    {
      "cell_type": "code",
      "source": [
        "def transcricao():\n",
        "  texto = ''\n",
        "  for parte in partes_audio:\n",
        "    texto = texto + ' '+ transcreve_audio(parte)\n",
        "  print(texto)\n"
      ],
      "metadata": {
        "id": "LBvhMs69b1rN"
      },
      "execution_count": 212,
      "outputs": []
    },
    {
      "cell_type": "code",
      "source": [
        "#realiza as transcricoes e adiciona em uma lista\n",
        "transcricao_python = []\n",
        "for i in range(41,120):\n",
        "  if i < 100:\n",
        "    file = f'LapsBM_00{i}'\n",
        "  else:\n",
        "    file = f'LapsBM_0{i}'\n",
        "  partes_audio = abrir_audio(file)\n",
        "  texto = ''\n",
        "  for parte in partes_audio:\n",
        "    texto = f'{texto} {transcreve_audio(parte)}'\n",
        "  transcricao_python.append(texto)\n"
      ],
      "metadata": {
        "id": "aTGtHjkNzU7a"
      },
      "execution_count": 213,
      "outputs": []
    },
    {
      "cell_type": "code",
      "source": [
        "#abre os txts com as transcrições originais dos audios e coloca em uma lista\n",
        "\n",
        "transcricao_txt = []\n",
        "for i in range(41,120):\n",
        "  if i < 100:\n",
        "    file = f'LapsBM_00{i}'\n",
        "  else:\n",
        "    file = f'LapsBM_0{i}'\n",
        "  \n",
        "  filename_txt = f'{path}dataset_audios/{file}.txt'\n",
        "  arquivo = open(filename_txt, 'r')\n",
        "  texto_txt = arquivo.read()\n",
        "  arquivo.close()\n",
        "  transcricao_txt.append(texto_txt)\n"
      ],
      "metadata": {
        "id": "yWWh1lGp0GYh"
      },
      "execution_count": 214,
      "outputs": []
    },
    {
      "cell_type": "code",
      "source": [
        "#coloca as transcricoes do script e as originais em um dataframe\n",
        "import pandas as pd\n",
        "\n",
        "df = pd.DataFrame((zip(transcricao_python, transcricao_txt)), columns = ['transcricao_python','transcricao_txt'])"
      ],
      "metadata": {
        "id": "P_p71RjG4PTP"
      },
      "execution_count": 215,
      "outputs": []
    },
    {
      "cell_type": "code",
      "source": [
        "#accuracia das transcrições feitas pelo script por audio\n",
        "!pip install fuzzywuzzy\n",
        "from fuzzywuzzy import fuzz\n",
        "from fuzzywuzzy import process\n",
        "\n",
        "df['accuracy_texto'] = df['transcricao_txt'].apply(lambda x: process.extractOne(x, df['transcricao_python'].to_list(),score_cutoff=0))"
      ],
      "metadata": {
        "colab": {
          "base_uri": "https://localhost:8080/"
        },
        "id": "ZaVWfvca6Quf",
        "outputId": "94748f0d-a3f7-407c-8e2c-d64cadbf39d1"
      },
      "execution_count": 216,
      "outputs": [
        {
          "output_type": "stream",
          "name": "stdout",
          "text": [
            "Requirement already satisfied: fuzzywuzzy in /usr/local/lib/python3.7/dist-packages (0.18.0)\n"
          ]
        }
      ]
    },
    {
      "cell_type": "code",
      "source": [
        "#adiciona uma coluna apenas com o valor da acuracia de cada audio\n",
        "df['accuracy'] = df['accuracy_texto'].str[-1]\n",
        "df"
      ],
      "metadata": {
        "colab": {
          "base_uri": "https://localhost:8080/",
          "height": 424
        },
        "id": "bOcTP2wD8heD",
        "outputId": "a11711af-0a3b-4100-98eb-345b94909ad8"
      },
      "execution_count": 217,
      "outputs": [
        {
          "output_type": "execute_result",
          "data": {
            "text/plain": [
              "                                   transcricao_python  \\\n",
              "0    quanto ao seu próprio time o diagnóstica meno...   \n",
              "1    desculpa esse para o mal jogo que fizemos con...   \n",
              "2     real média do varejo aumenta 12% no mês passado   \n",
              "3                     Tokyo o dólar fechou cotado 98n   \n",
              "4    os Sobreviventes cremar os seus mortos e proc...   \n",
              "..                                                ...   \n",
              "74   sua é um compromisso Irreversível do governo ...   \n",
              "75            mata da Alfândega foi 5 vezes mais cara   \n",
              "76   secretário da cultura com apoio de intelectua...   \n",
              "77   tu não pode ver orelha de eleitor que dá o ma...   \n",
              "78   atenção a partir de sexta estarei no caderno ...   \n",
              "\n",
              "                                      transcricao_txt  \\\n",
              "0   quanto ao seu próprio time o diagnóstico é men...   \n",
              "1   não há desculpas para o mau jogo que fizemos c...   \n",
              "2   salário real médio do varejo aumenta doze por ...   \n",
              "3   em tóquio  o dólar fechou cotado a noventa e o...   \n",
              "4   os sobreviventes cremaram seus mortos e procur...   \n",
              "..                                                ...   \n",
              "74  o mercosul é um compromisso irreversível do go...   \n",
              "75  a mamata da alfândega foi cinco vezes mais car...   \n",
              "76  chega a secretário da cultura com amplo apoio ...   \n",
              "77  petista não pode ver orelha de eleitor que dá ...   \n",
              "78  atenção  a partir de sexta estarei no  caderno...   \n",
              "\n",
              "                                       accuracy_texto  accuracy  \n",
              "0   ( quanto ao seu próprio time o diagnóstica men...        97  \n",
              "1   ( desculpa esse para o mal jogo que fizemos co...        88  \n",
              "2   ( real média do varejo aumenta 12% no mês pass...        86  \n",
              "3              ( Tokyo o dólar fechou cotado 98n, 86)        86  \n",
              "4   ( os Sobreviventes cremar os seus mortos e pro...        97  \n",
              "..                                                ...       ...  \n",
              "74  ( sua é um compromisso Irreversível do governo...        92  \n",
              "75     ( mata da Alfândega foi 5 vezes mais cara, 88)        88  \n",
              "76  ( secretário da cultura com apoio de intelectu...        95  \n",
              "77  ( tu não pode ver orelha de eleitor que dá o m...        94  \n",
              "78  ( atenção a partir de sexta estarei no caderno...        92  \n",
              "\n",
              "[79 rows x 4 columns]"
            ],
            "text/html": [
              "\n",
              "  <div id=\"df-7a824d4c-1a32-4509-8f4b-7e9a0be2ef06\">\n",
              "    <div class=\"colab-df-container\">\n",
              "      <div>\n",
              "<style scoped>\n",
              "    .dataframe tbody tr th:only-of-type {\n",
              "        vertical-align: middle;\n",
              "    }\n",
              "\n",
              "    .dataframe tbody tr th {\n",
              "        vertical-align: top;\n",
              "    }\n",
              "\n",
              "    .dataframe thead th {\n",
              "        text-align: right;\n",
              "    }\n",
              "</style>\n",
              "<table border=\"1\" class=\"dataframe\">\n",
              "  <thead>\n",
              "    <tr style=\"text-align: right;\">\n",
              "      <th></th>\n",
              "      <th>transcricao_python</th>\n",
              "      <th>transcricao_txt</th>\n",
              "      <th>accuracy_texto</th>\n",
              "      <th>accuracy</th>\n",
              "    </tr>\n",
              "  </thead>\n",
              "  <tbody>\n",
              "    <tr>\n",
              "      <th>0</th>\n",
              "      <td>quanto ao seu próprio time o diagnóstica meno...</td>\n",
              "      <td>quanto ao seu próprio time o diagnóstico é men...</td>\n",
              "      <td>( quanto ao seu próprio time o diagnóstica men...</td>\n",
              "      <td>97</td>\n",
              "    </tr>\n",
              "    <tr>\n",
              "      <th>1</th>\n",
              "      <td>desculpa esse para o mal jogo que fizemos con...</td>\n",
              "      <td>não há desculpas para o mau jogo que fizemos c...</td>\n",
              "      <td>( desculpa esse para o mal jogo que fizemos co...</td>\n",
              "      <td>88</td>\n",
              "    </tr>\n",
              "    <tr>\n",
              "      <th>2</th>\n",
              "      <td>real média do varejo aumenta 12% no mês passado</td>\n",
              "      <td>salário real médio do varejo aumenta doze por ...</td>\n",
              "      <td>( real média do varejo aumenta 12% no mês pass...</td>\n",
              "      <td>86</td>\n",
              "    </tr>\n",
              "    <tr>\n",
              "      <th>3</th>\n",
              "      <td>Tokyo o dólar fechou cotado 98n</td>\n",
              "      <td>em tóquio  o dólar fechou cotado a noventa e o...</td>\n",
              "      <td>( Tokyo o dólar fechou cotado 98n, 86)</td>\n",
              "      <td>86</td>\n",
              "    </tr>\n",
              "    <tr>\n",
              "      <th>4</th>\n",
              "      <td>os Sobreviventes cremar os seus mortos e proc...</td>\n",
              "      <td>os sobreviventes cremaram seus mortos e procur...</td>\n",
              "      <td>( os Sobreviventes cremar os seus mortos e pro...</td>\n",
              "      <td>97</td>\n",
              "    </tr>\n",
              "    <tr>\n",
              "      <th>...</th>\n",
              "      <td>...</td>\n",
              "      <td>...</td>\n",
              "      <td>...</td>\n",
              "      <td>...</td>\n",
              "    </tr>\n",
              "    <tr>\n",
              "      <th>74</th>\n",
              "      <td>sua é um compromisso Irreversível do governo ...</td>\n",
              "      <td>o mercosul é um compromisso irreversível do go...</td>\n",
              "      <td>( sua é um compromisso Irreversível do governo...</td>\n",
              "      <td>92</td>\n",
              "    </tr>\n",
              "    <tr>\n",
              "      <th>75</th>\n",
              "      <td>mata da Alfândega foi 5 vezes mais cara</td>\n",
              "      <td>a mamata da alfândega foi cinco vezes mais car...</td>\n",
              "      <td>( mata da Alfândega foi 5 vezes mais cara, 88)</td>\n",
              "      <td>88</td>\n",
              "    </tr>\n",
              "    <tr>\n",
              "      <th>76</th>\n",
              "      <td>secretário da cultura com apoio de intelectua...</td>\n",
              "      <td>chega a secretário da cultura com amplo apoio ...</td>\n",
              "      <td>( secretário da cultura com apoio de intelectu...</td>\n",
              "      <td>95</td>\n",
              "    </tr>\n",
              "    <tr>\n",
              "      <th>77</th>\n",
              "      <td>tu não pode ver orelha de eleitor que dá o ma...</td>\n",
              "      <td>petista não pode ver orelha de eleitor que dá ...</td>\n",
              "      <td>( tu não pode ver orelha de eleitor que dá o m...</td>\n",
              "      <td>94</td>\n",
              "    </tr>\n",
              "    <tr>\n",
              "      <th>78</th>\n",
              "      <td>atenção a partir de sexta estarei no caderno ...</td>\n",
              "      <td>atenção  a partir de sexta estarei no  caderno...</td>\n",
              "      <td>( atenção a partir de sexta estarei no caderno...</td>\n",
              "      <td>92</td>\n",
              "    </tr>\n",
              "  </tbody>\n",
              "</table>\n",
              "<p>79 rows × 4 columns</p>\n",
              "</div>\n",
              "      <button class=\"colab-df-convert\" onclick=\"convertToInteractive('df-7a824d4c-1a32-4509-8f4b-7e9a0be2ef06')\"\n",
              "              title=\"Convert this dataframe to an interactive table.\"\n",
              "              style=\"display:none;\">\n",
              "        \n",
              "  <svg xmlns=\"http://www.w3.org/2000/svg\" height=\"24px\"viewBox=\"0 0 24 24\"\n",
              "       width=\"24px\">\n",
              "    <path d=\"M0 0h24v24H0V0z\" fill=\"none\"/>\n",
              "    <path d=\"M18.56 5.44l.94 2.06.94-2.06 2.06-.94-2.06-.94-.94-2.06-.94 2.06-2.06.94zm-11 1L8.5 8.5l.94-2.06 2.06-.94-2.06-.94L8.5 2.5l-.94 2.06-2.06.94zm10 10l.94 2.06.94-2.06 2.06-.94-2.06-.94-.94-2.06-.94 2.06-2.06.94z\"/><path d=\"M17.41 7.96l-1.37-1.37c-.4-.4-.92-.59-1.43-.59-.52 0-1.04.2-1.43.59L10.3 9.45l-7.72 7.72c-.78.78-.78 2.05 0 2.83L4 21.41c.39.39.9.59 1.41.59.51 0 1.02-.2 1.41-.59l7.78-7.78 2.81-2.81c.8-.78.8-2.07 0-2.86zM5.41 20L4 18.59l7.72-7.72 1.47 1.35L5.41 20z\"/>\n",
              "  </svg>\n",
              "      </button>\n",
              "      \n",
              "  <style>\n",
              "    .colab-df-container {\n",
              "      display:flex;\n",
              "      flex-wrap:wrap;\n",
              "      gap: 12px;\n",
              "    }\n",
              "\n",
              "    .colab-df-convert {\n",
              "      background-color: #E8F0FE;\n",
              "      border: none;\n",
              "      border-radius: 50%;\n",
              "      cursor: pointer;\n",
              "      display: none;\n",
              "      fill: #1967D2;\n",
              "      height: 32px;\n",
              "      padding: 0 0 0 0;\n",
              "      width: 32px;\n",
              "    }\n",
              "\n",
              "    .colab-df-convert:hover {\n",
              "      background-color: #E2EBFA;\n",
              "      box-shadow: 0px 1px 2px rgba(60, 64, 67, 0.3), 0px 1px 3px 1px rgba(60, 64, 67, 0.15);\n",
              "      fill: #174EA6;\n",
              "    }\n",
              "\n",
              "    [theme=dark] .colab-df-convert {\n",
              "      background-color: #3B4455;\n",
              "      fill: #D2E3FC;\n",
              "    }\n",
              "\n",
              "    [theme=dark] .colab-df-convert:hover {\n",
              "      background-color: #434B5C;\n",
              "      box-shadow: 0px 1px 3px 1px rgba(0, 0, 0, 0.15);\n",
              "      filter: drop-shadow(0px 1px 2px rgba(0, 0, 0, 0.3));\n",
              "      fill: #FFFFFF;\n",
              "    }\n",
              "  </style>\n",
              "\n",
              "      <script>\n",
              "        const buttonEl =\n",
              "          document.querySelector('#df-7a824d4c-1a32-4509-8f4b-7e9a0be2ef06 button.colab-df-convert');\n",
              "        buttonEl.style.display =\n",
              "          google.colab.kernel.accessAllowed ? 'block' : 'none';\n",
              "\n",
              "        async function convertToInteractive(key) {\n",
              "          const element = document.querySelector('#df-7a824d4c-1a32-4509-8f4b-7e9a0be2ef06');\n",
              "          const dataTable =\n",
              "            await google.colab.kernel.invokeFunction('convertToInteractive',\n",
              "                                                     [key], {});\n",
              "          if (!dataTable) return;\n",
              "\n",
              "          const docLinkHtml = 'Like what you see? Visit the ' +\n",
              "            '<a target=\"_blank\" href=https://colab.research.google.com/notebooks/data_table.ipynb>data table notebook</a>'\n",
              "            + ' to learn more about interactive tables.';\n",
              "          element.innerHTML = '';\n",
              "          dataTable['output_type'] = 'display_data';\n",
              "          await google.colab.output.renderOutput(dataTable, element);\n",
              "          const docLink = document.createElement('div');\n",
              "          docLink.innerHTML = docLinkHtml;\n",
              "          element.appendChild(docLink);\n",
              "        }\n",
              "      </script>\n",
              "    </div>\n",
              "  </div>\n",
              "  "
            ]
          },
          "metadata": {},
          "execution_count": 217
        }
      ]
    },
    {
      "cell_type": "code",
      "source": [
        "#acuracia final de todos os audios que foram transcritos\n",
        "accuracy = df['accuracy'].mean()\n",
        "print(accuracy)\n",
        "df['accuracy'].describe()\n"
      ],
      "metadata": {
        "colab": {
          "base_uri": "https://localhost:8080/"
        },
        "id": "T763dgmcDuy_",
        "outputId": "d038ffa4-2d09-4cda-dad5-e5bc5d9e0621"
      },
      "execution_count": 218,
      "outputs": [
        {
          "output_type": "stream",
          "name": "stdout",
          "text": [
            "91.30379746835443\n"
          ]
        },
        {
          "output_type": "execute_result",
          "data": {
            "text/plain": [
              "count    79.000000\n",
              "mean     91.303797\n",
              "std       4.133523\n",
              "min      86.000000\n",
              "25%      86.000000\n",
              "50%      92.000000\n",
              "75%      95.000000\n",
              "max      99.000000\n",
              "Name: accuracy, dtype: float64"
            ]
          },
          "metadata": {},
          "execution_count": 218
        }
      ]
    }
  ]
}